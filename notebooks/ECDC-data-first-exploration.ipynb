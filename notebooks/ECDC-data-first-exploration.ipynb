{
 "cells": [
  {
   "cell_type": "markdown",
   "metadata": {},
   "source": [
    "## ECDC COVID-19 Data: First Exploration\n",
    "\n",
    "J. Colliander  \n",
    "2020-03-24\n",
    "\n",
    "> The goal of this notebook is to implement the ideas in [this Medium post](https://medium.com/@vilhelmp/get-covid-19-dataset-into-a-pandas-dataframe-bb5eb23097550) by Magnus Vilhelm Persson. The target is to effectively download the COVID-19 cases data (from the European Centre for Disease Control (ECDC)) by region (mostly countries), make this data available in the form of a Pandas DataFrame, and generate a first few visualizations. "
   ]
  },
  {
   "cell_type": "code",
   "execution_count": 1,
   "metadata": {},
   "outputs": [
    {
     "name": "stdout",
     "output_type": "stream",
     "text": [
      "Downloading for 2020-03-27\n",
      "Success!\n"
     ]
    }
   ],
   "source": [
    "from datetime import datetime, timedelta\n",
    "import pandas as pd\n",
    "import seaborn as sns \n",
    "DATE = datetime.today()\n",
    "DATE_STR = DATE.strftime('%Y-%m-%d')\n",
    "BASE_URL = f'https://www.ecdc.europa.eu/sites/default/files/documents/COVID-19-geographic-disbtribution-worldwide-{DATE_STR}.xlsx'\n",
    "print(f'Downloading for {DATE_STR}')\n",
    "while True:\n",
    "    try:\n",
    "        BASE_URL = f'https://www.ecdc.europa.eu/sites/default/files/documents/COVID-19-geographic-disbtribution-worldwide-{DATE_STR}.xlsx'\n",
    "        data_world = pd.read_excel(BASE_URL)\n",
    "        print('Success!')\n",
    "        break\n",
    "    except:\n",
    "        print(f'Couldn\\’t get data for {DATE_STR}, trying a day before…')\n",
    "        # subtract a day\n",
    "        DATE = DATE - timedelta(days=1)\n",
    "        DATE_STR = DATE.strftime('%Y-%m-%d')"
   ]
  },
  {
   "cell_type": "code",
   "execution_count": 2,
   "metadata": {},
   "outputs": [],
   "source": [
    "# some preprocessing\n",
    "# change column names\n",
    "data_world.rename(columns={'dateRep':'datestr','countriesAndTerritories':'country',  'geoId':'geoid'},\n",
    "inplace=True)# convert dates\n",
    "data_world['date'] = pd.to_datetime(data_world.datestr, format= \"%Y-%m-%d\")# remove unnecessary columns \n",
    "data_world.drop('day', axis=1, inplace=True)\n",
    "data_world.drop('month', axis=1, inplace=True)\n",
    "data_world.drop('year', axis=1, inplace=True)\n",
    "data_world.drop('datestr', axis=1, inplace=True)# set date as index\n",
    "data_world = data_world.set_index('date').sort_index()# calculate cases for the whole world\n",
    "total = data_world.groupby('date').sum()\n",
    "# add columns and add to full dataframe\n",
    "total['geoid'] = 'W'\n",
    "total['country'] = 'World'\n",
    "#total['datestr'] = total.index.astype('str')\n",
    "total.reset_index()\n",
    "data_world = data_world.append(total, sort=False)# calculate cases for world outside China\n",
    "total_outcn = data_world.query(\"geoid not in ['W', 'CN']\").groupby('date').sum()\n",
    "# add columns and add to full dataframe\n",
    "total_outcn['geoid'] = 'OUTC'\n",
    "total_outcn['country'] = 'OutsideC'\n",
    "#total['datestr'] = total.index.astype('str')\n",
    "total_outcn.reset_index()\n",
    "data_world = data_world.append(total_outcn, sort=False)# calculate cumulative sum for each country\n",
    "data_world['cases_cum'] = data_world.groupby(['country'])['cases'].cumsum()\n",
    "data_world['deaths_cum'] = data_world.groupby(['country'])['deaths'].cumsum()"
   ]
  },
  {
   "cell_type": "code",
   "execution_count": 3,
   "metadata": {},
   "outputs": [
    {
     "data": {
      "text/plain": [
       "<matplotlib.axes._subplots.AxesSubplot at 0x1a1f6691d0>"
      ]
     },
     "execution_count": 3,
     "metadata": {},
     "output_type": "execute_result"
    },
    {
     "data": {
      "image/png": "[encoded data removed]",
      "text/plain": [
       "<Figure size 432x288 with 1 Axes>"
      ]
     },
     "metadata": {
      "needs_background": "light"
     },
     "output_type": "display_data"
    }
   ],
   "source": [
    "data_world[['cases_cum','deaths_cum']].plot()"
   ]
  },
  {
   "cell_type": "markdown",
   "metadata": {},
   "source": [
    "Yay! I've implemented the Medium article. 2020-03-24, 9:26pm."
   ]
  },
  {
   "cell_type": "code",
   "execution_count": 4,
   "metadata": {},
   "outputs": [
    {
     "data": {
      "text/html": [
       "<div>\n",
       "<style scoped>\n",
       "    .dataframe tbody tr th:only-of-type {\n",
       "        vertical-align: middle;\n",
       "    }\n",
       "\n",
       "    .dataframe tbody tr th {\n",
       "        vertical-align: top;\n",
       "    }\n",
       "\n",
       "    .dataframe thead th {\n",
       "        text-align: right;\n",
       "    }\n",
       "</style>\n",
       "<table border=\"1\" class=\"dataframe\">\n",
       "  <thead>\n",
       "    <tr style=\"text-align: right;\">\n",
       "      <th></th>\n",
       "      <th>cases_cum</th>\n",
       "      <th>deaths_cum</th>\n",
       "    </tr>\n",
       "    <tr>\n",
       "      <th>country</th>\n",
       "      <th></th>\n",
       "      <th></th>\n",
       "    </tr>\n",
       "  </thead>\n",
       "  <tbody>\n",
       "    <tr>\n",
       "      <th>World</th>\n",
       "      <td>528025</td>\n",
       "      <td>23672</td>\n",
       "    </tr>\n",
       "    <tr>\n",
       "      <th>OutsideC</th>\n",
       "      <td>445946</td>\n",
       "      <td>20374</td>\n",
       "    </tr>\n",
       "    <tr>\n",
       "      <th>United_States_of_America</th>\n",
       "      <td>85991</td>\n",
       "      <td>1296</td>\n",
       "    </tr>\n",
       "    <tr>\n",
       "      <th>China</th>\n",
       "      <td>82079</td>\n",
       "      <td>3298</td>\n",
       "    </tr>\n",
       "    <tr>\n",
       "      <th>Italy</th>\n",
       "      <td>80539</td>\n",
       "      <td>8165</td>\n",
       "    </tr>\n",
       "    <tr>\n",
       "      <th>Spain</th>\n",
       "      <td>56188</td>\n",
       "      <td>4089</td>\n",
       "    </tr>\n",
       "    <tr>\n",
       "      <th>Germany</th>\n",
       "      <td>42288</td>\n",
       "      <td>253</td>\n",
       "    </tr>\n",
       "    <tr>\n",
       "      <th>Iran</th>\n",
       "      <td>29406</td>\n",
       "      <td>2234</td>\n",
       "    </tr>\n",
       "    <tr>\n",
       "      <th>France</th>\n",
       "      <td>29155</td>\n",
       "      <td>1696</td>\n",
       "    </tr>\n",
       "    <tr>\n",
       "      <th>United_Kingdom</th>\n",
       "      <td>11658</td>\n",
       "      <td>578</td>\n",
       "    </tr>\n",
       "    <tr>\n",
       "      <th>Switzerland</th>\n",
       "      <td>10714</td>\n",
       "      <td>161</td>\n",
       "    </tr>\n",
       "    <tr>\n",
       "      <th>South_Korea</th>\n",
       "      <td>9332</td>\n",
       "      <td>139</td>\n",
       "    </tr>\n",
       "    <tr>\n",
       "      <th>Netherlands</th>\n",
       "      <td>7431</td>\n",
       "      <td>434</td>\n",
       "    </tr>\n",
       "    <tr>\n",
       "      <th>Austria</th>\n",
       "      <td>7029</td>\n",
       "      <td>52</td>\n",
       "    </tr>\n",
       "    <tr>\n",
       "      <th>Belgium</th>\n",
       "      <td>6235</td>\n",
       "      <td>220</td>\n",
       "    </tr>\n",
       "    <tr>\n",
       "      <th>Canada</th>\n",
       "      <td>4018</td>\n",
       "      <td>39</td>\n",
       "    </tr>\n",
       "    <tr>\n",
       "      <th>Turkey</th>\n",
       "      <td>3629</td>\n",
       "      <td>75</td>\n",
       "    </tr>\n",
       "    <tr>\n",
       "      <th>Portugal</th>\n",
       "      <td>3544</td>\n",
       "      <td>60</td>\n",
       "    </tr>\n",
       "    <tr>\n",
       "      <th>Australia</th>\n",
       "      <td>3166</td>\n",
       "      <td>13</td>\n",
       "    </tr>\n",
       "    <tr>\n",
       "      <th>Norway</th>\n",
       "      <td>3156</td>\n",
       "      <td>14</td>\n",
       "    </tr>\n",
       "    <tr>\n",
       "      <th>Brazil</th>\n",
       "      <td>2915</td>\n",
       "      <td>77</td>\n",
       "    </tr>\n",
       "    <tr>\n",
       "      <th>Sweden</th>\n",
       "      <td>2806</td>\n",
       "      <td>66</td>\n",
       "    </tr>\n",
       "    <tr>\n",
       "      <th>Israel</th>\n",
       "      <td>2666</td>\n",
       "      <td>8</td>\n",
       "    </tr>\n",
       "    <tr>\n",
       "      <th>Czech_Republic</th>\n",
       "      <td>2062</td>\n",
       "      <td>9</td>\n",
       "    </tr>\n",
       "    <tr>\n",
       "      <th>Malaysia</th>\n",
       "      <td>2031</td>\n",
       "      <td>23</td>\n",
       "    </tr>\n",
       "    <tr>\n",
       "      <th>Denmark</th>\n",
       "      <td>1877</td>\n",
       "      <td>41</td>\n",
       "    </tr>\n",
       "    <tr>\n",
       "      <th>Ireland</th>\n",
       "      <td>1819</td>\n",
       "      <td>19</td>\n",
       "    </tr>\n",
       "    <tr>\n",
       "      <th>Luxembourg</th>\n",
       "      <td>1453</td>\n",
       "      <td>9</td>\n",
       "    </tr>\n",
       "    <tr>\n",
       "      <th>Ecuador</th>\n",
       "      <td>1403</td>\n",
       "      <td>34</td>\n",
       "    </tr>\n",
       "    <tr>\n",
       "      <th>Japan</th>\n",
       "      <td>1364</td>\n",
       "      <td>46</td>\n",
       "    </tr>\n",
       "    <tr>\n",
       "      <th>...</th>\n",
       "      <td>...</td>\n",
       "      <td>...</td>\n",
       "    </tr>\n",
       "    <tr>\n",
       "      <th>Chad</th>\n",
       "      <td>5</td>\n",
       "      <td>0</td>\n",
       "    </tr>\n",
       "    <tr>\n",
       "      <th>Central_African_Republic</th>\n",
       "      <td>5</td>\n",
       "      <td>0</td>\n",
       "    </tr>\n",
       "    <tr>\n",
       "      <th>Fiji</th>\n",
       "      <td>5</td>\n",
       "      <td>0</td>\n",
       "    </tr>\n",
       "    <tr>\n",
       "      <th>Cape_Verde</th>\n",
       "      <td>5</td>\n",
       "      <td>1</td>\n",
       "    </tr>\n",
       "    <tr>\n",
       "      <th>Syria</th>\n",
       "      <td>5</td>\n",
       "      <td>0</td>\n",
       "    </tr>\n",
       "    <tr>\n",
       "      <th>Holy_See</th>\n",
       "      <td>5</td>\n",
       "      <td>0</td>\n",
       "    </tr>\n",
       "    <tr>\n",
       "      <th>Congo</th>\n",
       "      <td>4</td>\n",
       "      <td>0</td>\n",
       "    </tr>\n",
       "    <tr>\n",
       "      <th>Mali</th>\n",
       "      <td>4</td>\n",
       "      <td>0</td>\n",
       "    </tr>\n",
       "    <tr>\n",
       "      <th>Angola</th>\n",
       "      <td>3</td>\n",
       "      <td>0</td>\n",
       "    </tr>\n",
       "    <tr>\n",
       "      <th>Bhutan</th>\n",
       "      <td>3</td>\n",
       "      <td>0</td>\n",
       "    </tr>\n",
       "    <tr>\n",
       "      <th>Liberia</th>\n",
       "      <td>3</td>\n",
       "      <td>0</td>\n",
       "    </tr>\n",
       "    <tr>\n",
       "      <th>Zimbabwe</th>\n",
       "      <td>3</td>\n",
       "      <td>1</td>\n",
       "    </tr>\n",
       "    <tr>\n",
       "      <th>Gambia</th>\n",
       "      <td>3</td>\n",
       "      <td>1</td>\n",
       "    </tr>\n",
       "    <tr>\n",
       "      <th>Sudan</th>\n",
       "      <td>3</td>\n",
       "      <td>1</td>\n",
       "    </tr>\n",
       "    <tr>\n",
       "      <th>Mauritania</th>\n",
       "      <td>3</td>\n",
       "      <td>0</td>\n",
       "    </tr>\n",
       "    <tr>\n",
       "      <th>Nepal</th>\n",
       "      <td>3</td>\n",
       "      <td>0</td>\n",
       "    </tr>\n",
       "    <tr>\n",
       "      <th>Saint_Lucia</th>\n",
       "      <td>3</td>\n",
       "      <td>0</td>\n",
       "    </tr>\n",
       "    <tr>\n",
       "      <th>Anguilla</th>\n",
       "      <td>2</td>\n",
       "      <td>0</td>\n",
       "    </tr>\n",
       "    <tr>\n",
       "      <th>Nicaragua</th>\n",
       "      <td>2</td>\n",
       "      <td>0</td>\n",
       "    </tr>\n",
       "    <tr>\n",
       "      <th>Guinea_Bissau</th>\n",
       "      <td>2</td>\n",
       "      <td>0</td>\n",
       "    </tr>\n",
       "    <tr>\n",
       "      <th>Saint_Kitts_and_Nevis</th>\n",
       "      <td>2</td>\n",
       "      <td>0</td>\n",
       "    </tr>\n",
       "    <tr>\n",
       "      <th>British_Virgin_Islands</th>\n",
       "      <td>2</td>\n",
       "      <td>0</td>\n",
       "    </tr>\n",
       "    <tr>\n",
       "      <th>Belize</th>\n",
       "      <td>2</td>\n",
       "      <td>0</td>\n",
       "    </tr>\n",
       "    <tr>\n",
       "      <th>Sint_Maarten</th>\n",
       "      <td>2</td>\n",
       "      <td>0</td>\n",
       "    </tr>\n",
       "    <tr>\n",
       "      <th>Turks_and_Caicos_islands</th>\n",
       "      <td>2</td>\n",
       "      <td>0</td>\n",
       "    </tr>\n",
       "    <tr>\n",
       "      <th>Somalia</th>\n",
       "      <td>2</td>\n",
       "      <td>0</td>\n",
       "    </tr>\n",
       "    <tr>\n",
       "      <th>Libya</th>\n",
       "      <td>1</td>\n",
       "      <td>0</td>\n",
       "    </tr>\n",
       "    <tr>\n",
       "      <th>Papua_New_Guinea</th>\n",
       "      <td>1</td>\n",
       "      <td>0</td>\n",
       "    </tr>\n",
       "    <tr>\n",
       "      <th>Saint_Vincent_and_the_Grenadines</th>\n",
       "      <td>1</td>\n",
       "      <td>0</td>\n",
       "    </tr>\n",
       "    <tr>\n",
       "      <th>Timor_Leste</th>\n",
       "      <td>1</td>\n",
       "      <td>0</td>\n",
       "    </tr>\n",
       "  </tbody>\n",
       "</table>\n",
       "<p>197 rows × 2 columns</p>\n",
       "</div>"
      ],
      "text/plain": [
       "                                  cases_cum  deaths_cum\n",
       "country                                                \n",
       "World                                528025       23672\n",
       "OutsideC                             445946       20374\n",
       "United_States_of_America              85991        1296\n",
       "China                                 82079        3298\n",
       "Italy                                 80539        8165\n",
       "Spain                                 56188        4089\n",
       "Germany                               42288         253\n",
       "Iran                                  29406        2234\n",
       "France                                29155        1696\n",
       "United_Kingdom                        11658         578\n",
       "Switzerland                           10714         161\n",
       "South_Korea                            9332         139\n",
       "Netherlands                            7431         434\n",
       "Austria                                7029          52\n",
       "Belgium                                6235         220\n",
       "Canada                                 4018          39\n",
       "Turkey                                 3629          75\n",
       "Portugal                               3544          60\n",
       "Australia                              3166          13\n",
       "Norway                                 3156          14\n",
       "Brazil                                 2915          77\n",
       "Sweden                                 2806          66\n",
       "Israel                                 2666           8\n",
       "Czech_Republic                         2062           9\n",
       "Malaysia                               2031          23\n",
       "Denmark                                1877          41\n",
       "Ireland                                1819          19\n",
       "Luxembourg                             1453           9\n",
       "Ecuador                                1403          34\n",
       "Japan                                  1364          46\n",
       "...                                     ...         ...\n",
       "Chad                                      5           0\n",
       "Central_African_Republic                  5           0\n",
       "Fiji                                      5           0\n",
       "Cape_Verde                                5           1\n",
       "Syria                                     5           0\n",
       "Holy_See                                  5           0\n",
       "Congo                                     4           0\n",
       "Mali                                      4           0\n",
       "Angola                                    3           0\n",
       "Bhutan                                    3           0\n",
       "Liberia                                   3           0\n",
       "Zimbabwe                                  3           1\n",
       "Gambia                                    3           1\n",
       "Sudan                                     3           1\n",
       "Mauritania                                3           0\n",
       "Nepal                                     3           0\n",
       "Saint_Lucia                               3           0\n",
       "Anguilla                                  2           0\n",
       "Nicaragua                                 2           0\n",
       "Guinea_Bissau                             2           0\n",
       "Saint_Kitts_and_Nevis                     2           0\n",
       "British_Virgin_Islands                    2           0\n",
       "Belize                                    2           0\n",
       "Sint_Maarten                              2           0\n",
       "Turks_and_Caicos_islands                  2           0\n",
       "Somalia                                   2           0\n",
       "Libya                                     1           0\n",
       "Papua_New_Guinea                          1           0\n",
       "Saint_Vincent_and_the_Grenadines          1           0\n",
       "Timor_Leste                               1           0\n",
       "\n",
       "[197 rows x 2 columns]"
      ]
     },
     "execution_count": 4,
     "metadata": {},
     "output_type": "execute_result"
    }
   ],
   "source": [
    "## Identify programs that have received the most funding\n",
    "pd.pivot_table(data_world, index=['country'], aggfunc=max,\n",
    "               values = ['cases_cum', 'deaths_cum']\n",
    "              ).sort_values(by=['cases_cum'], ascending=False)"
   ]
  },
  {
   "cell_type": "markdown",
   "metadata": {},
   "source": [
    "## Focus on a single country"
   ]
  },
  {
   "cell_type": "code",
   "execution_count": 5,
   "metadata": {},
   "outputs": [],
   "source": [
    "COUNTRY = 'Italy'"
   ]
  },
  {
   "cell_type": "code",
   "execution_count": 6,
   "metadata": {},
   "outputs": [],
   "source": [
    "local = data_world.loc[(data_world['country'] == COUNTRY)]"
   ]
  },
  {
   "cell_type": "code",
   "execution_count": 7,
   "metadata": {},
   "outputs": [
    {
     "data": {
      "text/plain": [
       "<matplotlib.axes._subplots.AxesSubplot at 0x1a1ddba518>"
      ]
     },
     "execution_count": 7,
     "metadata": {},
     "output_type": "execute_result"
    },
    {
     "data": {
      "image/png": "[encoded data removed]",
      "text/plain": [
       "<Figure size 432x288 with 1 Axes>"
      ]
     },
     "metadata": {
      "needs_background": "light"
     },
     "output_type": "display_data"
    }
   ],
   "source": [
    "local[['cases_cum', 'deaths_cum']].plot(title = COUNTRY)"
   ]
  },
  {
   "cell_type": "markdown",
   "metadata": {},
   "source": [
    "## Focus on a group of countries for comparison"
   ]
  },
  {
   "cell_type": "code",
   "execution_count": 8,
   "metadata": {},
   "outputs": [],
   "source": [
    "Comparisons = ['Canada', 'United_States_of_America', 'France', 'Germany', 'South_Korea', 'China', 'Italy']"
   ]
  },
  {
   "cell_type": "code",
   "execution_count": 9,
   "metadata": {},
   "outputs": [],
   "source": [
    "subset = data_world.loc[(data_world['country'].isin(Comparisons))]"
   ]
  },
  {
   "cell_type": "code",
   "execution_count": 10,
   "metadata": {},
   "outputs": [
    {
     "data": {
      "text/plain": [
       "<matplotlib.axes._subplots.AxesSubplot at 0x1a1fa2b470>"
      ]
     },
     "execution_count": 10,
     "metadata": {},
     "output_type": "execute_result"
    },
    {
     "data": {
      "image/png": "[encoded data removed]",
      "text/plain": [
       "<Figure size 432x288 with 1 Axes>"
      ]
     },
     "metadata": {
      "needs_background": "light"
     },
     "output_type": "display_data"
    }
   ],
   "source": [
    "(subset.groupby(['country']).sum()['cases']).sort_values(ascending = False).plot(kind='bar')"
   ]
  },
  {
   "cell_type": "code",
   "execution_count": 11,
   "metadata": {},
   "outputs": [
    {
     "data": {
      "text/plain": [
       "array(['Greece', 'Germany', 'Taiwan', 'Canada', 'North_Macedonia',\n",
       "       'Monaco', 'Cambodia', 'San_Marino', 'Sri_Lanka', 'Lebanon',\n",
       "       'United_Kingdom', 'Cases_on_an_international_conveyance_Japan',\n",
       "       'Switzerland', 'Brazil', 'Kuwait', 'Oman', 'Belgium',\n",
       "       'Afghanistan', 'Iceland', 'Australia', 'Pakistan', 'India',\n",
       "       'Japan', 'Norway', 'Nigeria', 'Lithuania', 'Georgia', 'Denmark',\n",
       "       'Algeria', 'Ecuador', 'Singapore', 'Russia', 'Egypt', 'Nepal',\n",
       "       'Czech_Republic', 'Spain', 'Mexico', 'Netherlands', 'Croatia',\n",
       "       'Estonia', 'Thailand', 'Malaysia', 'New_Zealand', 'South_Korea',\n",
       "       'Finland', 'United_Arab_Emirates', 'France', 'Luxembourg',\n",
       "       'Armenia', 'China', 'Belarus', 'Indonesia', 'Dominican_Republic',\n",
       "       'Sweden', 'Israel', 'Austria', 'Iraq', 'Qatar', 'Bahrain',\n",
       "       'Ireland', 'Iran', 'Vietnam', 'Romania', 'Philippines',\n",
       "       'United_States_of_America', 'Azerbaijan', 'Italy', 'Tunisia',\n",
       "       'Morocco', 'Portugal', 'Jordan', 'Andorra', 'Sint_Maarten',\n",
       "       'Saudi_Arabia', 'Senegal', 'Latvia', 'Poland', 'Argentina',\n",
       "       'Ukraine', 'Chile', 'Hungary', 'Slovenia', 'Liechtenstein',\n",
       "       'South_Africa', 'Bhutan', 'Palestine', 'Bosnia_and_Herzegovina',\n",
       "       'Togo', 'Costa_Rica', 'Slovakia', 'Colombia', 'Serbia', 'Cameroon',\n",
       "       'Peru', 'Holy_See', 'Maldives', 'Malta', 'Bulgaria', 'Moldova',\n",
       "       'Paraguay', 'Albania', 'Bangladesh', 'Cyprus', 'Brunei_Darussalam',\n",
       "       'Panama', 'Mongolia', 'Burkina_Faso',\n",
       "       'Democratic_Republic_of_the_Congo', 'Jamaica', 'Honduras',\n",
       "       'Turkey', 'Cuba', 'Bolivia', 'Cote_dIvoire',\n",
       "       'Saint_Vincent_and_the_Grenadines', 'Gabon', 'Curaçao',\n",
       "       'Trinidad_and_Tobago', 'Guyana', 'Ghana', 'Aruba', 'Kenya',\n",
       "       'Guinea', 'Sudan', 'Ethiopia', 'Guatemala', 'Suriname', 'Rwanda',\n",
       "       'Saint_Lucia', 'Mauritania', 'Eswatini', 'Equatorial_Guinea',\n",
       "       'Uruguay', 'Namibia', 'Venezuela', 'Kazakhstan',\n",
       "       'Antigua_and_Barbuda', 'Seychelles', 'Bahamas', 'Uzbekistan',\n",
       "       'Central_African_Republic', 'Congo', 'Kosovo', 'Somalia',\n",
       "       'Liberia', 'Benin', 'United_Republic_of_Tanzania', 'Myanmar',\n",
       "       'Gambia', 'Barbados', 'Montenegro', 'El_Salvador', 'Nicaragua',\n",
       "       'Kyrgyzstan', 'Zambia', 'Guam', 'Djibouti', 'French_Polynesia',\n",
       "       'Cayman_Islands', 'Chad', 'Jersey', 'Guernsey', 'Bermuda', 'Haiti',\n",
       "       'Gibraltar', 'Greenland', 'Fiji', 'Mauritius', 'Faroe_Islands',\n",
       "       'Zimbabwe', 'Papua_New_Guinea', 'Montserrat', 'Isle_of_Man',\n",
       "       'New_Caledonia', 'Cape_Verde', 'Niger', 'Madagascar', 'Eritrea',\n",
       "       'Timor_Leste', 'Angola', 'Uganda', 'Dominica', 'Grenada', 'Syria',\n",
       "       'Mozambique', 'Belize', 'United_States_Virgin_Islands',\n",
       "       'Turks_and_Caicos_islands', 'Laos', 'Libya',\n",
       "       'Saint_Kitts_and_Nevis', 'Mali', 'Anguilla',\n",
       "       'British_Virgin_Islands', 'Guinea_Bissau', 'World', 'OutsideC'],\n",
       "      dtype=object)"
      ]
     },
     "execution_count": 11,
     "metadata": {},
     "output_type": "execute_result"
    }
   ],
   "source": [
    "data_world['country'].unique()"
   ]
  },
  {
   "cell_type": "markdown",
   "metadata": {},
   "source": [
    "The set of `country` variables includes `World` and `OutsideC`. I want to exclude these categories."
   ]
  },
  {
   "cell_type": "code",
   "execution_count": 12,
   "metadata": {},
   "outputs": [],
   "source": [
    "# df['country'].unique()\n",
    "countries = ['New_Zealand', 'Philippines', 'Ireland', 'India', 'San_Marino',\n",
    "       'South_Korea', 'Ecuador', 'Netherlands', 'Germany', 'Sweden',\n",
    "       'Luxembourg', 'Pakistan', 'Spain', 'Malaysia', 'Egypt', 'Russia',\n",
    "       'Switzerland', 'Czech_Republic', 'Estonia', 'Taiwan', 'Greece',\n",
    "       'Japan', 'United_Kingdom', 'Romania', 'Bahrain',\n",
    "       'United_Arab_Emirates',\n",
    "       'Cases_on_an_international_conveyance_Japan', 'Australia',\n",
    "       'Canada', 'Iceland', 'Nigeria', 'Italy', 'Mexico', 'Kuwait',\n",
    "       'Iran', 'Azerbaijan', 'Oman', 'Qatar', 'Indonesia', 'Cambodia',\n",
    "       'Georgia', 'Singapore', 'France', 'Thailand', 'Denmark', 'Israel',\n",
    "       'Lebanon', 'Sri_Lanka', 'Vietnam', 'Monaco', 'Brazil', 'Belarus',\n",
    "       'Norway', 'Dominican_Republic', 'Lithuania', 'Finland', 'Armenia',\n",
    "       'United_States_of_America', 'North_Macedonia', 'Nepal', 'Algeria',\n",
    "       'Iraq', 'Afghanistan', 'Belgium', 'China', 'Croatia', 'Austria',\n",
    "       'Sint_Maarten', 'Latvia', 'Jordan', 'Andorra', 'Morocco',\n",
    "       'Senegal', 'Portugal', 'Saudi_Arabia', 'Tunisia', 'Chile',\n",
    "       'Poland', 'Argentina', 'Ukraine', 'Hungary', 'Liechtenstein',\n",
    "       'Slovenia', 'Bosnia_and_Herzegovina', 'Bhutan', 'Palestine',\n",
    "       'South_Africa', 'Serbia', 'Costa_Rica', 'Colombia', 'Slovakia',\n",
    "       'Peru', 'Togo', 'Cameroon', 'Holy_See', 'Malta', 'Maldives',\n",
    "       'Paraguay', 'Bulgaria', 'Moldova', 'Bangladesh', 'Albania',\n",
    "       'Panama', 'Cyprus', 'Mongolia', 'Brunei_Darussalam',\n",
    "       'Democratic_Republic_of_the_Congo', 'Burkina_Faso', 'Cuba',\n",
    "       'Cote_dIvoire', 'Honduras', 'Jamaica', 'Turkey', 'Bolivia',\n",
    "       'Ghana', 'Saint_Vincent_and_the_Grenadines', 'Aruba', 'Guyana',\n",
    "       'Curaçao', 'Gabon', 'Trinidad_and_Tobago', 'Kenya', 'Ethiopia',\n",
    "       'Sudan', 'Guinea', 'Namibia', 'Suriname', 'Kazakhstan', 'Rwanda',\n",
    "       'Uruguay', 'Seychelles', 'Saint_Lucia', 'Venezuela', 'Guatemala',\n",
    "       'Mauritania', 'Eswatini', 'Equatorial_Guinea',\n",
    "       'Antigua_and_Barbuda', 'Bahamas', 'Kosovo', 'Congo',\n",
    "       'Central_African_Republic', 'Uzbekistan', 'Benin', 'Somalia',\n",
    "       'United_Republic_of_Tanzania', 'Liberia', 'Myanmar', 'Gambia',\n",
    "       'Montenegro', 'Barbados', 'Zambia', 'Kyrgyzstan', 'Guam',\n",
    "       'El_Salvador', 'Nicaragua', 'Djibouti', 'French_Polynesia',\n",
    "       'Bermuda', 'Chad', 'Cayman_Islands', 'Jersey', 'Fiji',\n",
    "       'Faroe_Islands', 'Gibraltar', 'Greenland', 'Mauritius', 'Guernsey',\n",
    "       'Haiti', 'Zimbabwe', 'Papua_New_Guinea', 'Isle_of_Man',\n",
    "       'Cape_Verde', 'Montserrat', 'New_Caledonia', 'Niger', 'Madagascar',\n",
    "       'Timor_Leste', 'Eritrea', 'Uganda', 'Angola', 'Dominica', 'Syria',\n",
    "       'Mozambique', 'Grenada', 'United_States_Virgin_Islands', 'Belize',\n",
    "       'Turks_and_Caicos_islands', 'Libya', 'Laos',\n",
    "       'Saint_Kitts_and_Nevis', 'Mali']"
   ]
  },
  {
   "cell_type": "code",
   "execution_count": 13,
   "metadata": {},
   "outputs": [],
   "source": [
    "df = data_world.loc[(data_world['country'].isin(countries))]"
   ]
  },
  {
   "cell_type": "code",
   "execution_count": 14,
   "metadata": {},
   "outputs": [
    {
     "data": {
      "text/plain": [
       "<matplotlib.axes._subplots.AxesSubplot at 0x1a1f89fe48>"
      ]
     },
     "execution_count": 14,
     "metadata": {},
     "output_type": "execute_result"
    },
    {
     "data": {
      "image/png": "[encoded data removed]",
      "text/plain": [
       "<Figure size 432x288 with 1 Axes>"
      ]
     },
     "metadata": {
      "needs_background": "light"
     },
     "output_type": "display_data"
    }
   ],
   "source": [
    "## Countries with most cases\n",
    "(df.groupby(['country']).sum()['cases']).sort_values(ascending = False ).head(n=12).plot(kind='bar')"
   ]
  },
  {
   "cell_type": "code",
   "execution_count": 15,
   "metadata": {},
   "outputs": [
    {
     "data": {
      "text/plain": [
       "<matplotlib.axes._subplots.AxesSubplot at 0x1a1f91c8d0>"
      ]
     },
     "execution_count": 15,
     "metadata": {},
     "output_type": "execute_result"
    },
    {
     "data": {
      "image/png": "[encoded data removed]",
      "text/plain": [
       "<Figure size 432x288 with 1 Axes>"
      ]
     },
     "metadata": {
      "needs_background": "light"
     },
     "output_type": "display_data"
    }
   ],
   "source": [
    "subset.pivot(columns=\"country\", values=\"cases_cum\").plot()"
   ]
  },
  {
   "cell_type": "code",
   "execution_count": null,
   "metadata": {},
   "outputs": [],
   "source": []
  }
 ],
 "metadata": {
  "kernelspec": {
   "display_name": "Python 3",
   "language": "python",
   "name": "python3"
  },
  "language_info": {
   "codemirror_mode": {
    "name": "ipython",
    "version": 3
   },
   "file_extension": ".py",
   "mimetype": "text/x-python",
   "name": "python",
   "nbconvert_exporter": "python",
   "pygments_lexer": "ipython3",
   "version": "3.7.3"
  }
 },
 "nbformat": 4,
 "nbformat_minor": 2
}
