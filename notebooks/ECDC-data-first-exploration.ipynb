{
 "cells": [
  {
   "cell_type": "markdown",
   "metadata": {},
   "source": [
    "## ECDC COVID-19 Data: First Exploration\n",
    "\n",
    "J. Colliander  \n",
    "2020-03-24\n",
    "\n",
    "> The goal of this notebook is to implement the ideas in [this Medium post](https://medium.com/@vilhelmp/get-covid-19-dataset-into-a-pandas-dataframe-bb5eb23097550) by Magnus Vilhelm Persson. The target is to effectively download the COVID-19 cases data (from the European Centre for Disease Control (ECDC)) by region (mostly countries), make this data available in the form of a Pandas DataFrame, and generate a first few visualizations. "
   ]
  },
  {
   "cell_type": "code",
   "execution_count": 3,
   "metadata": {},
   "outputs": [
    {
     "name": "stdout",
     "output_type": "stream",
     "text": [
      "Downloading for 2020-03-26\n",
      "Success!\n"
     ]
    }
   ],
   "source": [
    "from datetime import datetime, timedelta\n",
    "import pandas as pd\n",
    "import seaborn as sns \n",
    "DATE = datetime.today()\n",
    "DATE_STR = DATE.strftime('%Y-%m-%d')\n",
    "BASE_URL = f'https://www.ecdc.europa.eu/sites/default/files/documents/COVID-19-geographic-disbtribution-worldwide-{DATE_STR}.xlsx'\n",
    "print(f'Downloading for {DATE_STR}')\n",
    "while True:\n",
    "    try:\n",
    "        BASE_URL = f'https://www.ecdc.europa.eu/sites/default/files/documents/COVID-19-geographic-disbtribution-worldwide-{DATE_STR}.xlsx'\n",
    "        data_world = pd.read_excel(BASE_URL)\n",
    "        print('Success!')\n",
    "        break\n",
    "    except:\n",
    "        print(f'Couldn\\’t get data for {DATE_STR}, trying a day before…')\n",
    "        # subtract a day\n",
    "        DATE = DATE - timedelta(days=1)\n",
    "        DATE_STR = DATE.strftime('%Y-%m-%d')"
   ]
  },
  {
   "cell_type": "code",
   "execution_count": 4,
   "metadata": {},
   "outputs": [],
   "source": [
    "# some preprocessing\n",
    "# change column names\n",
    "data_world.rename(columns={'DateRep':'datestr','Countries and territories':'country', 'Cases':'cases', 'Deaths':'deaths', 'GeoId':'geoid'},\n",
    "inplace=True)# convert dates\n",
    "data_world['date'] = pd.to_datetime(data_world.datestr, format= \"%Y-%m-%d\")# remove unnecessary columns \n",
    "data_world.drop('Day', axis=1, inplace=True)\n",
    "data_world.drop('Month', axis=1, inplace=True)\n",
    "data_world.drop('Year', axis=1, inplace=True)\n",
    "data_world.drop('datestr', axis=1, inplace=True)# set date as index\n",
    "data_world = data_world.set_index('date').sort_index()# calculate cases for the whole world\n",
    "total = data_world.groupby('date').sum()\n",
    "# add columns and add to full dataframe\n",
    "total['geoid'] = 'W'\n",
    "total['country'] = 'World'\n",
    "#total['datestr'] = total.index.astype('str')\n",
    "total.reset_index()\n",
    "data_world = data_world.append(total, sort=False)# calculate cases for world outside China\n",
    "total_outcn = data_world.query(\"geoid not in ['W', 'CN']\").groupby('date').sum()\n",
    "# add columns and add to full dataframe\n",
    "total_outcn['geoid'] = 'OUTC'\n",
    "total_outcn['country'] = 'OutsideC'\n",
    "#total['datestr'] = total.index.astype('str')\n",
    "total_outcn.reset_index()\n",
    "data_world = data_world.append(total_outcn, sort=False)# calculate cumulative sum for each country\n",
    "data_world['cases_cum'] = data_world.groupby(['country'])['cases'].cumsum()\n",
    "data_world['deaths_cum'] = data_world.groupby(['country'])['deaths'].cumsum()"
   ]
  },
  {
   "cell_type": "code",
   "execution_count": 5,
   "metadata": {},
   "outputs": [
    {
     "data": {
      "text/plain": [
       "<matplotlib.axes._subplots.AxesSubplot at 0x1a1d301518>"
      ]
     },
     "execution_count": 5,
     "metadata": {},
     "output_type": "execute_result"
    },
    {
     "data": {
      "image/png": "[encoded data removed]",
      "text/plain": [
       "<Figure size 432x288 with 1 Axes>"
      ]
     },
     "metadata": {
      "needs_background": "light"
     },
     "output_type": "display_data"
    }
   ],
   "source": [
    "data_world[['cases_cum','deaths_cum']].plot()"
   ]
  },
  {
   "cell_type": "markdown",
   "metadata": {},
   "source": [
    "Yay! I've implemented the Medium article. 2020-03-24, 9:26pm."
   ]
  },
  {
   "cell_type": "code",
   "execution_count": 6,
   "metadata": {},
   "outputs": [
    {
     "data": {
      "text/html": [
       "<div>\n",
       "<style scoped>\n",
       "    .dataframe tbody tr th:only-of-type {\n",
       "        vertical-align: middle;\n",
       "    }\n",
       "\n",
       "    .dataframe tbody tr th {\n",
       "        vertical-align: top;\n",
       "    }\n",
       "\n",
       "    .dataframe thead th {\n",
       "        text-align: right;\n",
       "    }\n",
       "</style>\n",
       "<table border=\"1\" class=\"dataframe\">\n",
       "  <thead>\n",
       "    <tr style=\"text-align: right;\">\n",
       "      <th></th>\n",
       "      <th>cases_cum</th>\n",
       "      <th>deaths_cum</th>\n",
       "    </tr>\n",
       "    <tr>\n",
       "      <th>country</th>\n",
       "      <th></th>\n",
       "      <th></th>\n",
       "    </tr>\n",
       "  </thead>\n",
       "  <tbody>\n",
       "    <tr>\n",
       "      <th>World</th>\n",
       "      <td>467710</td>\n",
       "      <td>20947</td>\n",
       "    </tr>\n",
       "    <tr>\n",
       "      <th>OutsideC</th>\n",
       "      <td>385742</td>\n",
       "      <td>17654</td>\n",
       "    </tr>\n",
       "    <tr>\n",
       "      <th>China</th>\n",
       "      <td>81968</td>\n",
       "      <td>3293</td>\n",
       "    </tr>\n",
       "    <tr>\n",
       "      <th>Italy</th>\n",
       "      <td>74386</td>\n",
       "      <td>7505</td>\n",
       "    </tr>\n",
       "    <tr>\n",
       "      <th>United_States_of_America</th>\n",
       "      <td>69194</td>\n",
       "      <td>1050</td>\n",
       "    </tr>\n",
       "    <tr>\n",
       "      <th>Spain</th>\n",
       "      <td>47610</td>\n",
       "      <td>3434</td>\n",
       "    </tr>\n",
       "    <tr>\n",
       "      <th>Germany</th>\n",
       "      <td>36508</td>\n",
       "      <td>198</td>\n",
       "    </tr>\n",
       "    <tr>\n",
       "      <th>Iran</th>\n",
       "      <td>27017</td>\n",
       "      <td>2077</td>\n",
       "    </tr>\n",
       "    <tr>\n",
       "      <th>France</th>\n",
       "      <td>25233</td>\n",
       "      <td>1331</td>\n",
       "    </tr>\n",
       "    <tr>\n",
       "      <th>Switzerland</th>\n",
       "      <td>9714</td>\n",
       "      <td>103</td>\n",
       "    </tr>\n",
       "    <tr>\n",
       "      <th>United_Kingdom</th>\n",
       "      <td>9529</td>\n",
       "      <td>422</td>\n",
       "    </tr>\n",
       "    <tr>\n",
       "      <th>South_Korea</th>\n",
       "      <td>9241</td>\n",
       "      <td>131</td>\n",
       "    </tr>\n",
       "    <tr>\n",
       "      <th>Netherlands</th>\n",
       "      <td>6412</td>\n",
       "      <td>356</td>\n",
       "    </tr>\n",
       "    <tr>\n",
       "      <th>Austria</th>\n",
       "      <td>5888</td>\n",
       "      <td>34</td>\n",
       "    </tr>\n",
       "    <tr>\n",
       "      <th>Belgium</th>\n",
       "      <td>4937</td>\n",
       "      <td>178</td>\n",
       "    </tr>\n",
       "    <tr>\n",
       "      <th>Canada</th>\n",
       "      <td>3385</td>\n",
       "      <td>35</td>\n",
       "    </tr>\n",
       "    <tr>\n",
       "      <th>Portugal</th>\n",
       "      <td>2995</td>\n",
       "      <td>43</td>\n",
       "    </tr>\n",
       "    <tr>\n",
       "      <th>Norway</th>\n",
       "      <td>2916</td>\n",
       "      <td>12</td>\n",
       "    </tr>\n",
       "    <tr>\n",
       "      <th>Sweden</th>\n",
       "      <td>2510</td>\n",
       "      <td>42</td>\n",
       "    </tr>\n",
       "    <tr>\n",
       "      <th>Brazil</th>\n",
       "      <td>2433</td>\n",
       "      <td>57</td>\n",
       "    </tr>\n",
       "    <tr>\n",
       "      <th>Turkey</th>\n",
       "      <td>2433</td>\n",
       "      <td>59</td>\n",
       "    </tr>\n",
       "    <tr>\n",
       "      <th>Australia</th>\n",
       "      <td>2423</td>\n",
       "      <td>8</td>\n",
       "    </tr>\n",
       "    <tr>\n",
       "      <th>Israel</th>\n",
       "      <td>2369</td>\n",
       "      <td>5</td>\n",
       "    </tr>\n",
       "    <tr>\n",
       "      <th>Malaysia</th>\n",
       "      <td>1796</td>\n",
       "      <td>19</td>\n",
       "    </tr>\n",
       "    <tr>\n",
       "      <th>Denmark</th>\n",
       "      <td>1724</td>\n",
       "      <td>34</td>\n",
       "    </tr>\n",
       "    <tr>\n",
       "      <th>Czech_Republic</th>\n",
       "      <td>1654</td>\n",
       "      <td>6</td>\n",
       "    </tr>\n",
       "    <tr>\n",
       "      <th>Ireland</th>\n",
       "      <td>1564</td>\n",
       "      <td>9</td>\n",
       "    </tr>\n",
       "    <tr>\n",
       "      <th>Luxembourg</th>\n",
       "      <td>1333</td>\n",
       "      <td>8</td>\n",
       "    </tr>\n",
       "    <tr>\n",
       "      <th>Japan</th>\n",
       "      <td>1268</td>\n",
       "      <td>45</td>\n",
       "    </tr>\n",
       "    <tr>\n",
       "      <th>Ecuador</th>\n",
       "      <td>1211</td>\n",
       "      <td>29</td>\n",
       "    </tr>\n",
       "    <tr>\n",
       "      <th>...</th>\n",
       "      <td>...</td>\n",
       "      <td>...</td>\n",
       "    </tr>\n",
       "    <tr>\n",
       "      <th>Cape_Verde</th>\n",
       "      <td>4</td>\n",
       "      <td>1</td>\n",
       "    </tr>\n",
       "    <tr>\n",
       "      <th>Chad</th>\n",
       "      <td>3</td>\n",
       "      <td>0</td>\n",
       "    </tr>\n",
       "    <tr>\n",
       "      <th>Cayman_Islands</th>\n",
       "      <td>3</td>\n",
       "      <td>1</td>\n",
       "    </tr>\n",
       "    <tr>\n",
       "      <th>Bhutan</th>\n",
       "      <td>3</td>\n",
       "      <td>0</td>\n",
       "    </tr>\n",
       "    <tr>\n",
       "      <th>Antigua_and_Barbuda</th>\n",
       "      <td>3</td>\n",
       "      <td>0</td>\n",
       "    </tr>\n",
       "    <tr>\n",
       "      <th>Myanmar</th>\n",
       "      <td>3</td>\n",
       "      <td>0</td>\n",
       "    </tr>\n",
       "    <tr>\n",
       "      <th>Zimbabwe</th>\n",
       "      <td>3</td>\n",
       "      <td>1</td>\n",
       "    </tr>\n",
       "    <tr>\n",
       "      <th>Nepal</th>\n",
       "      <td>3</td>\n",
       "      <td>0</td>\n",
       "    </tr>\n",
       "    <tr>\n",
       "      <th>Gambia</th>\n",
       "      <td>3</td>\n",
       "      <td>1</td>\n",
       "    </tr>\n",
       "    <tr>\n",
       "      <th>Saint_Lucia</th>\n",
       "      <td>3</td>\n",
       "      <td>0</td>\n",
       "    </tr>\n",
       "    <tr>\n",
       "      <th>Sudan</th>\n",
       "      <td>3</td>\n",
       "      <td>1</td>\n",
       "    </tr>\n",
       "    <tr>\n",
       "      <th>Liberia</th>\n",
       "      <td>3</td>\n",
       "      <td>0</td>\n",
       "    </tr>\n",
       "    <tr>\n",
       "      <th>Sint_Maarten</th>\n",
       "      <td>2</td>\n",
       "      <td>0</td>\n",
       "    </tr>\n",
       "    <tr>\n",
       "      <th>Belize</th>\n",
       "      <td>2</td>\n",
       "      <td>0</td>\n",
       "    </tr>\n",
       "    <tr>\n",
       "      <th>Angola</th>\n",
       "      <td>2</td>\n",
       "      <td>0</td>\n",
       "    </tr>\n",
       "    <tr>\n",
       "      <th>Saint_Kitts_and_Nevis</th>\n",
       "      <td>2</td>\n",
       "      <td>0</td>\n",
       "    </tr>\n",
       "    <tr>\n",
       "      <th>Nicaragua</th>\n",
       "      <td>2</td>\n",
       "      <td>0</td>\n",
       "    </tr>\n",
       "    <tr>\n",
       "      <th>Mauritania</th>\n",
       "      <td>2</td>\n",
       "      <td>0</td>\n",
       "    </tr>\n",
       "    <tr>\n",
       "      <th>Mali</th>\n",
       "      <td>2</td>\n",
       "      <td>0</td>\n",
       "    </tr>\n",
       "    <tr>\n",
       "      <th>Laos</th>\n",
       "      <td>2</td>\n",
       "      <td>0</td>\n",
       "    </tr>\n",
       "    <tr>\n",
       "      <th>Montserrat</th>\n",
       "      <td>1</td>\n",
       "      <td>0</td>\n",
       "    </tr>\n",
       "    <tr>\n",
       "      <th>Syria</th>\n",
       "      <td>1</td>\n",
       "      <td>0</td>\n",
       "    </tr>\n",
       "    <tr>\n",
       "      <th>Libya</th>\n",
       "      <td>1</td>\n",
       "      <td>0</td>\n",
       "    </tr>\n",
       "    <tr>\n",
       "      <th>Holy_See</th>\n",
       "      <td>1</td>\n",
       "      <td>0</td>\n",
       "    </tr>\n",
       "    <tr>\n",
       "      <th>Grenada</th>\n",
       "      <td>1</td>\n",
       "      <td>0</td>\n",
       "    </tr>\n",
       "    <tr>\n",
       "      <th>Turks_and_Caicos_islands</th>\n",
       "      <td>1</td>\n",
       "      <td>0</td>\n",
       "    </tr>\n",
       "    <tr>\n",
       "      <th>Saint_Vincent_and_the_Grenadines</th>\n",
       "      <td>1</td>\n",
       "      <td>0</td>\n",
       "    </tr>\n",
       "    <tr>\n",
       "      <th>Timor_Leste</th>\n",
       "      <td>1</td>\n",
       "      <td>0</td>\n",
       "    </tr>\n",
       "    <tr>\n",
       "      <th>Somalia</th>\n",
       "      <td>1</td>\n",
       "      <td>0</td>\n",
       "    </tr>\n",
       "    <tr>\n",
       "      <th>Papua_New_Guinea</th>\n",
       "      <td>1</td>\n",
       "      <td>0</td>\n",
       "    </tr>\n",
       "  </tbody>\n",
       "</table>\n",
       "<p>194 rows × 2 columns</p>\n",
       "</div>"
      ],
      "text/plain": [
       "                                  cases_cum  deaths_cum\n",
       "country                                                \n",
       "World                                467710       20947\n",
       "OutsideC                             385742       17654\n",
       "China                                 81968        3293\n",
       "Italy                                 74386        7505\n",
       "United_States_of_America              69194        1050\n",
       "Spain                                 47610        3434\n",
       "Germany                               36508         198\n",
       "Iran                                  27017        2077\n",
       "France                                25233        1331\n",
       "Switzerland                            9714         103\n",
       "United_Kingdom                         9529         422\n",
       "South_Korea                            9241         131\n",
       "Netherlands                            6412         356\n",
       "Austria                                5888          34\n",
       "Belgium                                4937         178\n",
       "Canada                                 3385          35\n",
       "Portugal                               2995          43\n",
       "Norway                                 2916          12\n",
       "Sweden                                 2510          42\n",
       "Brazil                                 2433          57\n",
       "Turkey                                 2433          59\n",
       "Australia                              2423           8\n",
       "Israel                                 2369           5\n",
       "Malaysia                               1796          19\n",
       "Denmark                                1724          34\n",
       "Czech_Republic                         1654           6\n",
       "Ireland                                1564           9\n",
       "Luxembourg                             1333           8\n",
       "Japan                                  1268          45\n",
       "Ecuador                                1211          29\n",
       "...                                     ...         ...\n",
       "Cape_Verde                                4           1\n",
       "Chad                                      3           0\n",
       "Cayman_Islands                            3           1\n",
       "Bhutan                                    3           0\n",
       "Antigua_and_Barbuda                       3           0\n",
       "Myanmar                                   3           0\n",
       "Zimbabwe                                  3           1\n",
       "Nepal                                     3           0\n",
       "Gambia                                    3           1\n",
       "Saint_Lucia                               3           0\n",
       "Sudan                                     3           1\n",
       "Liberia                                   3           0\n",
       "Sint_Maarten                              2           0\n",
       "Belize                                    2           0\n",
       "Angola                                    2           0\n",
       "Saint_Kitts_and_Nevis                     2           0\n",
       "Nicaragua                                 2           0\n",
       "Mauritania                                2           0\n",
       "Mali                                      2           0\n",
       "Laos                                      2           0\n",
       "Montserrat                                1           0\n",
       "Syria                                     1           0\n",
       "Libya                                     1           0\n",
       "Holy_See                                  1           0\n",
       "Grenada                                   1           0\n",
       "Turks_and_Caicos_islands                  1           0\n",
       "Saint_Vincent_and_the_Grenadines          1           0\n",
       "Timor_Leste                               1           0\n",
       "Somalia                                   1           0\n",
       "Papua_New_Guinea                          1           0\n",
       "\n",
       "[194 rows x 2 columns]"
      ]
     },
     "execution_count": 6,
     "metadata": {},
     "output_type": "execute_result"
    }
   ],
   "source": [
    "## Identify programs that have received the most funding\n",
    "pd.pivot_table(data_world, index=['country'], aggfunc=max,\n",
    "               values = ['cases_cum', 'deaths_cum']\n",
    "              ).sort_values(by=['cases_cum'], ascending=False)"
   ]
  },
  {
   "cell_type": "markdown",
   "metadata": {},
   "source": [
    "## Focus on a single country"
   ]
  },
  {
   "cell_type": "code",
   "execution_count": 7,
   "metadata": {},
   "outputs": [],
   "source": [
    "COUNTRY = 'Italy'"
   ]
  },
  {
   "cell_type": "code",
   "execution_count": 8,
   "metadata": {},
   "outputs": [],
   "source": [
    "local = data_world.loc[(data_world['country'] == COUNTRY)]"
   ]
  },
  {
   "cell_type": "code",
   "execution_count": 9,
   "metadata": {},
   "outputs": [
    {
     "data": {
      "text/plain": [
       "<matplotlib.axes._subplots.AxesSubplot at 0x1a1dc1bb00>"
      ]
     },
     "execution_count": 9,
     "metadata": {},
     "output_type": "execute_result"
    },
    {
     "data": {
      "image/png": "[encoded data removed]",
      "text/plain": [
       "<Figure size 432x288 with 1 Axes>"
      ]
     },
     "metadata": {
      "needs_background": "light"
     },
     "output_type": "display_data"
    }
   ],
   "source": [
    "local[['cases_cum', 'deaths_cum']].plot(title = COUNTRY)"
   ]
  },
  {
   "cell_type": "markdown",
   "metadata": {},
   "source": [
    "## Focus on a group of countries for comparison"
   ]
  },
  {
   "cell_type": "code",
   "execution_count": 13,
   "metadata": {},
   "outputs": [],
   "source": [
    "Comparisons = ['Canada', 'United_States_of_America', 'France', 'Germany', 'South_Korea', 'China', 'Italy']"
   ]
  },
  {
   "cell_type": "code",
   "execution_count": 14,
   "metadata": {},
   "outputs": [],
   "source": [
    "subset = data_world.loc[(data_world['country'].isin(Comparisons))]"
   ]
  },
  {
   "cell_type": "code",
   "execution_count": 45,
   "metadata": {},
   "outputs": [
    {
     "data": {
      "text/plain": [
       "<matplotlib.axes._subplots.AxesSubplot at 0x1a1f86e550>"
      ]
     },
     "execution_count": 45,
     "metadata": {},
     "output_type": "execute_result"
    },
    {
     "data": {
      "image/png": "[encoded data removed]",
      "text/plain": [
       "<Figure size 432x288 with 1 Axes>"
      ]
     },
     "metadata": {
      "needs_background": "light"
     },
     "output_type": "display_data"
    }
   ],
   "source": [
    "(subset.groupby(['country']).sum()['cases']).sort_values(ascending = False).plot(kind='bar')"
   ]
  },
  {
   "cell_type": "code",
   "execution_count": 31,
   "metadata": {},
   "outputs": [
    {
     "data": {
      "text/plain": [
       "array(['New_Zealand', 'Philippines', 'Ireland', 'India', 'San_Marino',\n",
       "       'South_Korea', 'Ecuador', 'Netherlands', 'Germany', 'Sweden',\n",
       "       'Luxembourg', 'Pakistan', 'Spain', 'Malaysia', 'Egypt', 'Russia',\n",
       "       'Switzerland', 'Czech_Republic', 'Estonia', 'Taiwan', 'Greece',\n",
       "       'Japan', 'United_Kingdom', 'Romania', 'Bahrain',\n",
       "       'United_Arab_Emirates',\n",
       "       'Cases_on_an_international_conveyance_Japan', 'Australia',\n",
       "       'Canada', 'Iceland', 'Nigeria', 'Italy', 'Mexico', 'Kuwait',\n",
       "       'Iran', 'Azerbaijan', 'Oman', 'Qatar', 'Indonesia', 'Cambodia',\n",
       "       'Georgia', 'Singapore', 'France', 'Thailand', 'Denmark', 'Israel',\n",
       "       'Lebanon', 'Sri_Lanka', 'Vietnam', 'Monaco', 'Brazil', 'Belarus',\n",
       "       'Norway', 'Dominican_Republic', 'Lithuania', 'Finland', 'Armenia',\n",
       "       'United_States_of_America', 'North_Macedonia', 'Nepal', 'Algeria',\n",
       "       'Iraq', 'Afghanistan', 'Belgium', 'China', 'Croatia', 'Austria',\n",
       "       'Sint_Maarten', 'Latvia', 'Jordan', 'Andorra', 'Morocco',\n",
       "       'Senegal', 'Portugal', 'Saudi_Arabia', 'Tunisia', 'Chile',\n",
       "       'Poland', 'Argentina', 'Ukraine', 'Hungary', 'Liechtenstein',\n",
       "       'Slovenia', 'Bosnia_and_Herzegovina', 'Bhutan', 'Palestine',\n",
       "       'South_Africa', 'Serbia', 'Costa_Rica', 'Colombia', 'Slovakia',\n",
       "       'Peru', 'Togo', 'Cameroon', 'Holy_See', 'Malta', 'Maldives',\n",
       "       'Paraguay', 'Bulgaria', 'Moldova', 'Bangladesh', 'Albania',\n",
       "       'Panama', 'Cyprus', 'Mongolia', 'Brunei_Darussalam',\n",
       "       'Democratic_Republic_of_the_Congo', 'Burkina_Faso', 'Cuba',\n",
       "       'Cote_dIvoire', 'Honduras', 'Jamaica', 'Turkey', 'Bolivia',\n",
       "       'Ghana', 'Saint_Vincent_and_the_Grenadines', 'Aruba', 'Guyana',\n",
       "       'Curaçao', 'Gabon', 'Trinidad_and_Tobago', 'Kenya', 'Ethiopia',\n",
       "       'Sudan', 'Guinea', 'Namibia', 'Suriname', 'Kazakhstan', 'Rwanda',\n",
       "       'Uruguay', 'Seychelles', 'Saint_Lucia', 'Venezuela', 'Guatemala',\n",
       "       'Mauritania', 'Eswatini', 'Equatorial_Guinea',\n",
       "       'Antigua_and_Barbuda', 'Bahamas', 'Kosovo', 'Congo',\n",
       "       'Central_African_Republic', 'Uzbekistan', 'Benin', 'Somalia',\n",
       "       'United_Republic_of_Tanzania', 'Liberia', 'Myanmar', 'Gambia',\n",
       "       'Montenegro', 'Barbados', 'Zambia', 'Kyrgyzstan', 'Guam',\n",
       "       'El_Salvador', 'Nicaragua', 'Djibouti', 'French_Polynesia',\n",
       "       'Bermuda', 'Chad', 'Cayman_Islands', 'Jersey', 'Fiji',\n",
       "       'Faroe_Islands', 'Gibraltar', 'Greenland', 'Mauritius', 'Guernsey',\n",
       "       'Haiti', 'Zimbabwe', 'Papua_New_Guinea', 'Isle_of_Man',\n",
       "       'Cape_Verde', 'Montserrat', 'New_Caledonia', 'Niger', 'Madagascar',\n",
       "       'Timor_Leste', 'Eritrea', 'Uganda', 'Angola', 'Dominica', 'Syria',\n",
       "       'Mozambique', 'Grenada', 'United_States_Virgin_Islands', 'Belize',\n",
       "       'Turks_and_Caicos_islands', 'Libya', 'Laos',\n",
       "       'Saint_Kitts_and_Nevis', 'Mali', 'World', 'OutsideC'], dtype=object)"
      ]
     },
     "execution_count": 31,
     "metadata": {},
     "output_type": "execute_result"
    }
   ],
   "source": [
    "data_world['country'].unique()"
   ]
  },
  {
   "cell_type": "markdown",
   "metadata": {},
   "source": [
    "The set of `country` variables includes `World` and `OutsideC`. I want to exclude these categories."
   ]
  },
  {
   "cell_type": "code",
   "execution_count": 32,
   "metadata": {},
   "outputs": [],
   "source": [
    "# df['country'].unique()\n",
    "countries = ['New_Zealand', 'Philippines', 'Ireland', 'India', 'San_Marino',\n",
    "       'South_Korea', 'Ecuador', 'Netherlands', 'Germany', 'Sweden',\n",
    "       'Luxembourg', 'Pakistan', 'Spain', 'Malaysia', 'Egypt', 'Russia',\n",
    "       'Switzerland', 'Czech_Republic', 'Estonia', 'Taiwan', 'Greece',\n",
    "       'Japan', 'United_Kingdom', 'Romania', 'Bahrain',\n",
    "       'United_Arab_Emirates',\n",
    "       'Cases_on_an_international_conveyance_Japan', 'Australia',\n",
    "       'Canada', 'Iceland', 'Nigeria', 'Italy', 'Mexico', 'Kuwait',\n",
    "       'Iran', 'Azerbaijan', 'Oman', 'Qatar', 'Indonesia', 'Cambodia',\n",
    "       'Georgia', 'Singapore', 'France', 'Thailand', 'Denmark', 'Israel',\n",
    "       'Lebanon', 'Sri_Lanka', 'Vietnam', 'Monaco', 'Brazil', 'Belarus',\n",
    "       'Norway', 'Dominican_Republic', 'Lithuania', 'Finland', 'Armenia',\n",
    "       'United_States_of_America', 'North_Macedonia', 'Nepal', 'Algeria',\n",
    "       'Iraq', 'Afghanistan', 'Belgium', 'China', 'Croatia', 'Austria',\n",
    "       'Sint_Maarten', 'Latvia', 'Jordan', 'Andorra', 'Morocco',\n",
    "       'Senegal', 'Portugal', 'Saudi_Arabia', 'Tunisia', 'Chile',\n",
    "       'Poland', 'Argentina', 'Ukraine', 'Hungary', 'Liechtenstein',\n",
    "       'Slovenia', 'Bosnia_and_Herzegovina', 'Bhutan', 'Palestine',\n",
    "       'South_Africa', 'Serbia', 'Costa_Rica', 'Colombia', 'Slovakia',\n",
    "       'Peru', 'Togo', 'Cameroon', 'Holy_See', 'Malta', 'Maldives',\n",
    "       'Paraguay', 'Bulgaria', 'Moldova', 'Bangladesh', 'Albania',\n",
    "       'Panama', 'Cyprus', 'Mongolia', 'Brunei_Darussalam',\n",
    "       'Democratic_Republic_of_the_Congo', 'Burkina_Faso', 'Cuba',\n",
    "       'Cote_dIvoire', 'Honduras', 'Jamaica', 'Turkey', 'Bolivia',\n",
    "       'Ghana', 'Saint_Vincent_and_the_Grenadines', 'Aruba', 'Guyana',\n",
    "       'Curaçao', 'Gabon', 'Trinidad_and_Tobago', 'Kenya', 'Ethiopia',\n",
    "       'Sudan', 'Guinea', 'Namibia', 'Suriname', 'Kazakhstan', 'Rwanda',\n",
    "       'Uruguay', 'Seychelles', 'Saint_Lucia', 'Venezuela', 'Guatemala',\n",
    "       'Mauritania', 'Eswatini', 'Equatorial_Guinea',\n",
    "       'Antigua_and_Barbuda', 'Bahamas', 'Kosovo', 'Congo',\n",
    "       'Central_African_Republic', 'Uzbekistan', 'Benin', 'Somalia',\n",
    "       'United_Republic_of_Tanzania', 'Liberia', 'Myanmar', 'Gambia',\n",
    "       'Montenegro', 'Barbados', 'Zambia', 'Kyrgyzstan', 'Guam',\n",
    "       'El_Salvador', 'Nicaragua', 'Djibouti', 'French_Polynesia',\n",
    "       'Bermuda', 'Chad', 'Cayman_Islands', 'Jersey', 'Fiji',\n",
    "       'Faroe_Islands', 'Gibraltar', 'Greenland', 'Mauritius', 'Guernsey',\n",
    "       'Haiti', 'Zimbabwe', 'Papua_New_Guinea', 'Isle_of_Man',\n",
    "       'Cape_Verde', 'Montserrat', 'New_Caledonia', 'Niger', 'Madagascar',\n",
    "       'Timor_Leste', 'Eritrea', 'Uganda', 'Angola', 'Dominica', 'Syria',\n",
    "       'Mozambique', 'Grenada', 'United_States_Virgin_Islands', 'Belize',\n",
    "       'Turks_and_Caicos_islands', 'Libya', 'Laos',\n",
    "       'Saint_Kitts_and_Nevis', 'Mali']"
   ]
  },
  {
   "cell_type": "code",
   "execution_count": 33,
   "metadata": {},
   "outputs": [],
   "source": [
    "df = data_world.loc[(data_world['country'].isin(countries))]"
   ]
  },
  {
   "cell_type": "code",
   "execution_count": 47,
   "metadata": {},
   "outputs": [
    {
     "data": {
      "text/plain": [
       "<matplotlib.axes._subplots.AxesSubplot at 0x1a1fb6a860>"
      ]
     },
     "execution_count": 47,
     "metadata": {},
     "output_type": "execute_result"
    },
    {
     "data": {
      "image/png": "[encoded data removed]",
      "text/plain": [
       "<Figure size 432x288 with 1 Axes>"
      ]
     },
     "metadata": {
      "needs_background": "light"
     },
     "output_type": "display_data"
    }
   ],
   "source": [
    "## Countries with most cases\n",
    "(df.groupby(['country']).sum()['cases']).sort_values(ascending = False ).head(n=12).plot(kind='bar')"
   ]
  },
  {
   "cell_type": "code",
   "execution_count": 12,
   "metadata": {},
   "outputs": [
    {
     "data": {
      "text/plain": [
       "<matplotlib.axes._subplots.AxesSubplot at 0x1a21d36828>"
      ]
     },
     "execution_count": 12,
     "metadata": {},
     "output_type": "execute_result"
    },
    {
     "data": {
      "image/png": "[encoded data removed]",
      "text/plain": [
       "<Figure size 432x288 with 1 Axes>"
      ]
     },
     "metadata": {
      "needs_background": "light"
     },
     "output_type": "display_data"
    }
   ],
   "source": [
    "subset.pivot(columns=\"country\", values=\"cases_cum\").plot()"
   ]
  }
 ],
 "metadata": {
  "kernelspec": {
   "display_name": "Python 3",
   "language": "python",
   "name": "python3"
  },
  "language_info": {
   "codemirror_mode": {
    "name": "ipython",
    "version": 3
   },
   "file_extension": ".py",
   "mimetype": "text/x-python",
   "name": "python",
   "nbconvert_exporter": "python",
   "pygments_lexer": "ipython3",
   "version": "3.7.3"
  }
 },
 "nbformat": 4,
 "nbformat_minor": 2
}
